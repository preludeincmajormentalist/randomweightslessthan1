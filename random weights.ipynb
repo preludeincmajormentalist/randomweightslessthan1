{
 "cells": [
  {
   "cell_type": "code",
   "execution_count": 2,
   "metadata": {},
   "outputs": [
    {
     "data": {
      "text/plain": [
       "<Figure size 640x480 with 1 Axes>"
      ]
     },
     "metadata": {},
     "output_type": "display_data"
    }
   ],
   "source": [
    "import matplotlib.pyplot as plt\n",
    "plt.plot([1, 2, 3, 4])"
   ]
  },
  {
   "cell_type": "code",
   "execution_count": 14,
   "metadata": {},
   "outputs": [
    {
     "data": {
      "image/png": "[encoded data removed]",
      "text/plain": [
       "<Figure size 432x288 with 1 Axes>"
      ]
     },
     "metadata": {
      "needs_background": "light"
     },
     "output_type": "display_data"
    }
   ],
   "source": [
    "# two random weights\n",
    "import random\n",
    "i = 1\n",
    "my_list = []\n",
    "#nought_list = []\n",
    "wtwo_list = []\n",
    "w = 0.66\n",
    "x=0.05\n",
    "y=0.25\n",
    "z=0.01\n",
    "retorn_list = []\n",
    "risk_list = []\n",
    "while i <= 10:\n",
    "    weight= round(random.uniform(0,1), 2)\n",
    "    antiweight= (1-weight)\n",
    "    mean = ((w*weight) + (x*antiweight))\n",
    "    retorn_list.append(mean)\n",
    "    risk = ((y*weight)+(z*antiweight))\n",
    "    risk_list.append(risk)\n",
    "    i+=1\n",
    "plt.axis([0, 1, 0, 1])\n",
    "plt.plot(risk_list,retorn_list,'ro')\n",
    "plt.show()"
   ]
  },
  {
   "cell_type": "code",
   "execution_count": 39,
   "metadata": {},
   "outputs": [],
   "source": [
    "#multiple random weights\n",
    "def weight(x):\n",
    "    iterations = (x-1)\n",
    "    weight= round(random.uniform(0,1), 2)\n",
    "    w_list = []\n",
    "    w_list.append(weight)\n",
    "    i = 2\n",
    "    while i <= x:   \n",
    "        allofit = (1-sum(w_list))\n",
    "        w_list.append(round(random.uniform(0,allofit), 10))\n",
    "        i+=1\n",
    "    return w_list\n",
    "   "
   ]
  },
  {
   "cell_type": "code",
   "execution_count": 59,
   "metadata": {},
   "outputs": [
    {
     "data": {
      "text/plain": [
       "[0.28, 0.179504137, 0.2075259529, 0.1686226333]"
      ]
     },
     "execution_count": 59,
     "metadata": {},
     "output_type": "execute_result"
    }
   ],
   "source": [
    "weight(4)\n",
    "\n"
   ]
  },
  {
   "cell_type": "code",
   "execution_count": null,
   "metadata": {},
   "outputs": [],
   "source": []
  },
  {
   "cell_type": "code",
   "execution_count": null,
   "metadata": {},
   "outputs": [],
   "source": []
  }
 ],
 "metadata": {
  "kernelspec": {
   "display_name": "Python 3",
   "language": "python",
   "name": "python3"
  },
  "language_info": {
   "codemirror_mode": {
    "name": "ipython",
    "version": 3
   },
   "file_extension": ".py",
   "mimetype": "text/x-python",
   "name": "python",
   "nbconvert_exporter": "python",
   "pygments_lexer": "ipython3",
   "version": "3.7.3"
  }
 },
 "nbformat": 4,
 "nbformat_minor": 2
}
